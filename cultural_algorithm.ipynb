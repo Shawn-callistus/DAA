{
 "cells": [
  {
   "cell_type": "code",
   "execution_count": 2,
   "id": "77ab11b8",
   "metadata": {},
   "outputs": [],
   "source": [
    "import numpy as np\n",
    "from sklearn.datasets import load_iris\n",
    "from sklearn.preprocessing import OneHotEncoder,StandardScaler\n",
    "from keras.models import Sequential\n",
    "from keras.layers import Dense\n",
    "from keras.optimizers import Adam\n",
    "import pandas as pd\n",
    "from sklearn.model_selection import train_test_split"
   ]
  },
  {
   "cell_type": "code",
   "execution_count": 3,
   "id": "d841b1a7",
   "metadata": {},
   "outputs": [
    {
     "name": "stderr",
     "output_type": "stream",
     "text": [
      "C:\\Users\\monik\\AppData\\Local\\Temp\\ipykernel_36232\\3425334974.py:8: FutureWarning: Support for multi-dimensional indexing (e.g. `obj[:, None]`) is deprecated and will be removed in a future version.  Convert to a numpy array before indexing instead.\n",
      "  Y = enc.fit_transform(y[:, np.newaxis]).toarray()\n"
     ]
    }
   ],
   "source": [
    "data=pd.read_csv(\"Bank_Personal_Loan_Modelling.csv\")\n",
    "y=data[\"Personal Loan\"]\n",
    "data[\"Loan\"]=y\n",
    "data.drop(columns=\"Personal Loan\",inplace=True)\n",
    "X = data.iloc[:,:-1]\n",
    "y = data.iloc[:,-1]\n",
    "enc = OneHotEncoder()\n",
    "Y = enc.fit_transform(y[:, np.newaxis]).toarray()\n",
    "\n"
   ]
  },
  {
   "cell_type": "code",
   "execution_count": 4,
   "id": "0026f2bf",
   "metadata": {},
   "outputs": [],
   "source": [
    "scaler = StandardScaler()\n",
    "X_scaled = scaler.fit_transform(X)\n",
    "X_train, X_test, Y_train, Y_test = train_test_split(X_scaled, Y, test_size=0.5, random_state=2)"
   ]
  },
  {
   "cell_type": "code",
   "execution_count": 5,
   "id": "6945ddd5",
   "metadata": {},
   "outputs": [],
   "source": [
    "def create_model():\n",
    "    model = Sequential()\n",
    "    model.add(Dense(units=10, input_dim=13, activation='relu'))\n",
    "    model.add(Dense(units=10, activation='relu'))\n",
    "    model.add(Dense(units=2, activation='softmax'))\n",
    "    optimizer = Adam(lr=0.001)\n",
    "    model.compile(loss='categorical_crossentropy', optimizer=optimizer, metrics=['accuracy'])\n",
    "    return model\n",
    "    "
   ]
  },
  {
   "cell_type": "code",
   "execution_count": 6,
   "id": "6e005a14",
   "metadata": {},
   "outputs": [],
   "source": [
    "def objective_function(model):\n",
    "    loss, accuracy = model.evaluate(X_test,Y_test,verbose=0)\n",
    "    return accuracy\n"
   ]
  },
  {
   "cell_type": "code",
   "execution_count": 18,
   "id": "8a9cb284",
   "metadata": {},
   "outputs": [
    {
     "name": "stdout",
     "output_type": "stream",
     "text": [
      "Generation  1  Best Fitness Value:  0.8988000154495239\n",
      "Generation  2  Best Fitness Value:  0.8988000154495239\n",
      "Generation  3  Best Fitness Value:  0.909600019454956\n",
      "Generation  4  Best Fitness Value:  0.909600019454956\n",
      "Generation  5  Best Fitness Value:  0.909600019454956\n"
     ]
    }
   ],
   "source": [
    "population_size = 5\n",
    "mutation_rate = 0.1\n",
    "crossover_rate = 0.9\n",
    "generations = 5\n",
    "population = []\n",
    "for i in range(population_size):\n",
    "    model = create_model()\n",
    "    weights = model.get_weights()\n",
    "    population.append(weights)\n",
    "    \n",
    "def evaluate_fitness(x):\n",
    "    model.set_weights(x)\n",
    "    loss, accuracy = model.evaluate(X_test, Y_test, verbose=0)\n",
    "    return accuracy\n",
    "\n",
    "for i in range(generations):\n",
    "  \n",
    "    fitness_values = []\n",
    "    for j in range(population_size):\n",
    "        model = create_model()\n",
    "        model.set_weights(population[j])\n",
    "        fitness_values.append(objective_function(model))\n",
    "    belief_space=[]\n",
    "\n",
    "    fittest_individuals = np.argsort(fitness_values)[-population_size:]\n",
    "    \n",
    "    \n",
    "    \n",
    "    # update belief space\n",
    "    best_index = np.argmax(fitness_values)\n",
    "    best_solution = population[best_index]\n",
    "    belief_space += [best_solution]\n",
    "    belief_space = belief_space[:population_size]\n",
    "    \n",
    "\n",
    "    offspring = []\n",
    "    for j in range(population_size):\n",
    "        parent1_index = np.random.choice(fittest_individuals)\n",
    "        parent2_index = np.random.choice(fittest_individuals)\n",
    "        parent1 = population[parent1_index]\n",
    "        parent2 = population[parent2_index]\n",
    "        offspring_weights = []\n",
    "        for k in range(len(parent1)):\n",
    "            if np.random.uniform() < crossover_rate:\n",
    "                offspring_weights.append(parent1[k])\n",
    "            else:\n",
    "                offspring_weights.append(parent2[k])\n",
    "        for k in range(len(offspring_weights)):\n",
    "            if np.random.uniform() < mutation_rate:\n",
    "                shape = offspring_weights[k].shape\n",
    "                offspring_weights[k] = offspring_weights[k] + np.random.normal(size=shape)\n",
    "        offspring.append(offspring_weights)\n",
    "\n",
    "  \n",
    "    offspring_fitness_values = []\n",
    "    for j in range(len(offspring)):\n",
    "        model = create_model()\n",
    "        model.set_weights(offspring[j])\n",
    "        offspring_fitness_values.append(objective_function(model))\n",
    "\n",
    "    combined_population = population + offspring\n",
    "    combined_fitness_values = fitness_values + offspring_fitness_values\n",
    "\n",
    "\n",
    "    population_indices = np.argsort(combined_fitness_values)[-population_size:]\n",
    "    population = [combined_population[i] for i in population_indices]\n",
    "    \n",
    "    #set the best solution to belief space\n",
    "    if evaluate_fitness(belief_space[0]) > evaluate_fitness(best_solution):\n",
    "        best_solution = belief_space[0]\n",
    "    else:\n",
    "        belief_space[-1] = best_solution\n",
    "    \n",
    "    combined_population+=belief_space[0]\n",
    "\n",
    "    print(\"Generation \", i+1, \" Best Fitness Value: \", np.max(combined_fitness_values))\n"
   ]
  },
  {
   "cell_type": "code",
   "execution_count": null,
   "id": "b20c35c5",
   "metadata": {},
   "outputs": [],
   "source": []
  }
 ],
 "metadata": {
  "kernelspec": {
   "display_name": "Python 3 (ipykernel)",
   "language": "python",
   "name": "python3"
  },
  "language_info": {
   "codemirror_mode": {
    "name": "ipython",
    "version": 3
   },
   "file_extension": ".py",
   "mimetype": "text/x-python",
   "name": "python",
   "nbconvert_exporter": "python",
   "pygments_lexer": "ipython3",
   "version": "3.9.13"
  }
 },
 "nbformat": 4,
 "nbformat_minor": 5
}
